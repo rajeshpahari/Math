{
  "nbformat": 4,
  "nbformat_minor": 0,
  "metadata": {
    "colab": {
      "provenance": [],
      "authorship_tag": "ABX9TyMNOfI4W2Phisi5uBUmxqTE",
      "include_colab_link": true
    },
    "kernelspec": {
      "name": "python3",
      "display_name": "Python 3"
    },
    "language_info": {
      "name": "python"
    }
  },
  "cells": [
    {
      "cell_type": "markdown",
      "metadata": {
        "id": "view-in-github",
        "colab_type": "text"
      },
      "source": [
        "<a href=\"https://colab.research.google.com/github/rajeshpahari/Math/blob/main/Power_Rule.ipynb\" target=\"_parent\"><img src=\"https://colab.research.google.com/assets/colab-badge.svg\" alt=\"Open In Colab\"/></a>"
      ]
    },
    {
      "cell_type": "code",
      "execution_count": 42,
      "metadata": {
        "id": "REs3_GVeapJU"
      },
      "outputs": [],
      "source": [
        "import numpy as np\n",
        "import matplotlib.pyplot as plt\n",
        "import sympy as sym\n",
        "\n",
        "from IPython.display import display,Math\n"
      ]
    },
    {
      "cell_type": "code",
      "source": [
        "# (X**a)*(X**b)=(X**(a+b))\n",
        "from sympy.abc import x,a,b\n",
        "xa=x**a\n",
        "xb=x**b\n",
        "\n",
        "xab=xa*xb\n",
        "display(xab)"
      ],
      "metadata": {
        "colab": {
          "base_uri": "https://localhost:8080/",
          "height": 39
        },
        "id": "j-1cXh7Va_O2",
        "outputId": "073aeea3-49c8-495e-bf15-236ad002711c"
      },
      "execution_count": 43,
      "outputs": [
        {
          "output_type": "display_data",
          "data": {
            "text/plain": [
              "x**a*x**b"
            ],
            "text/latex": "$\\displaystyle x^{a} x^{b}$"
          },
          "metadata": {}
        }
      ]
    },
    {
      "cell_type": "code",
      "source": [
        "display(sym.simplify(xab))"
      ],
      "metadata": {
        "colab": {
          "base_uri": "https://localhost:8080/",
          "height": 39
        },
        "id": "l1LMQNnfbSng",
        "outputId": "6ecf49d0-f436-4b54-9314-d3af39ac9930"
      },
      "execution_count": 44,
      "outputs": [
        {
          "output_type": "display_data",
          "data": {
            "text/plain": [
              "x**(a + b)"
            ],
            "text/latex": "$\\displaystyle x^{a + b}$"
          },
          "metadata": {}
        }
      ]
    },
    {
      "cell_type": "code",
      "source": [
        "n1=3.4\n",
        "n2=7.3\n",
        "xa.subs(a,n1)*xb.subs(b,n2)\n"
      ],
      "metadata": {
        "colab": {
          "base_uri": "https://localhost:8080/",
          "height": 39
        },
        "id": "A-9deLKOblYA",
        "outputId": "7489af3d-73c5-4fac-f6e7-b2af416103c2"
      },
      "execution_count": 45,
      "outputs": [
        {
          "output_type": "execute_result",
          "data": {
            "text/plain": [
              "x**10.7"
            ],
            "text/latex": "$\\displaystyle x^{10.7}$"
          },
          "metadata": {},
          "execution_count": 45
        }
      ]
    },
    {
      "cell_type": "code",
      "source": [
        "x**(n1+n2)"
      ],
      "metadata": {
        "colab": {
          "base_uri": "https://localhost:8080/",
          "height": 39
        },
        "id": "_-xDLMxdbvow",
        "outputId": "94ef9bee-4186-40cd-d4d3-feed93eb9c8a"
      },
      "execution_count": 46,
      "outputs": [
        {
          "output_type": "execute_result",
          "data": {
            "text/plain": [
              "x**10.7"
            ],
            "text/latex": "$\\displaystyle x^{10.7}$"
          },
          "metadata": {},
          "execution_count": 46
        }
      ]
    },
    {
      "cell_type": "code",
      "source": [
        "# (X**a)/(X**b)=(X**(a-b))\n",
        "xab=xa/xb\n",
        "display(sym.simplify(xab))"
      ],
      "metadata": {
        "colab": {
          "base_uri": "https://localhost:8080/",
          "height": 39
        },
        "id": "Jm5hlhjFbzP4",
        "outputId": "341ac097-345b-4dde-ad44-735787c3e769"
      },
      "execution_count": 47,
      "outputs": [
        {
          "output_type": "display_data",
          "data": {
            "text/plain": [
              "x**(a - b)"
            ],
            "text/latex": "$\\displaystyle x^{a - b}$"
          },
          "metadata": {}
        }
      ]
    },
    {
      "cell_type": "code",
      "source": [
        "xa.subs(a,n1)/xb.subs(b,n2)"
      ],
      "metadata": {
        "colab": {
          "base_uri": "https://localhost:8080/",
          "height": 39
        },
        "id": "IeyXcspDc4jV",
        "outputId": "60d08a53-d51b-477c-df71-c018aa919cdb"
      },
      "execution_count": 48,
      "outputs": [
        {
          "output_type": "execute_result",
          "data": {
            "text/plain": [
              "x**(-3.9)"
            ],
            "text/latex": "$\\displaystyle x^{-3.9}$"
          },
          "metadata": {},
          "execution_count": 48
        }
      ]
    },
    {
      "cell_type": "code",
      "source": [
        "x**(n1-n2)"
      ],
      "metadata": {
        "colab": {
          "base_uri": "https://localhost:8080/",
          "height": 39
        },
        "id": "oCx7V3OMdBoY",
        "outputId": "df8c7e01-6f9d-4e30-adb9-12191b30f157"
      },
      "execution_count": 49,
      "outputs": [
        {
          "output_type": "execute_result",
          "data": {
            "text/plain": [
              "x**(-3.9)"
            ],
            "text/latex": "$\\displaystyle x^{-3.9}$"
          },
          "metadata": {},
          "execution_count": 49
        }
      ]
    },
    {
      "cell_type": "code",
      "source": [
        "#(x**a)**b=x**ab\n",
        "xab=(x**a)**b\n",
        "display(sym.powsimp(xab))\n",
        "display(xab)\n",
        "\n"
      ],
      "metadata": {
        "colab": {
          "base_uri": "https://localhost:8080/",
          "height": 64
        },
        "id": "iY8j3je1dgb9",
        "outputId": "23d8d3e2-f992-40bf-c5b0-3438c9755f9a"
      },
      "execution_count": 50,
      "outputs": [
        {
          "output_type": "display_data",
          "data": {
            "text/plain": [
              "(x**a)**b"
            ],
            "text/latex": "$\\displaystyle \\left(x^{a}\\right)^{b}$"
          },
          "metadata": {}
        },
        {
          "output_type": "display_data",
          "data": {
            "text/plain": [
              "(x**a)**b"
            ],
            "text/latex": "$\\displaystyle \\left(x^{a}\\right)^{b}$"
          },
          "metadata": {}
        }
      ]
    },
    {
      "cell_type": "code",
      "source": [
        "display( (x**n1)**n2)\n",
        "#"
      ],
      "metadata": {
        "colab": {
          "base_uri": "https://localhost:8080/",
          "height": 42
        },
        "id": "x177krLodvqb",
        "outputId": "1a1c68d9-54a7-4ffa-d7f6-f749e3ed0f7d"
      },
      "execution_count": 51,
      "outputs": [
        {
          "output_type": "display_data",
          "data": {
            "text/plain": [
              "(x**3.4)**7.3"
            ],
            "text/latex": "$\\displaystyle \\left(x^{3.4}\\right)^{7.3}$"
          },
          "metadata": {}
        }
      ]
    },
    {
      "cell_type": "code",
      "source": [
        "n1=2\n",
        "n2=4\n",
        "display( (x**n1)**n2)"
      ],
      "metadata": {
        "colab": {
          "base_uri": "https://localhost:8080/",
          "height": 39
        },
        "id": "cWEP1JzFfTQ7",
        "outputId": "f4ed4eaf-7acb-4d46-d3b2-bef7bf76589b"
      },
      "execution_count": 52,
      "outputs": [
        {
          "output_type": "display_data",
          "data": {
            "text/plain": [
              "x**8"
            ],
            "text/latex": "$\\displaystyle x^{8}$"
          },
          "metadata": {}
        }
      ]
    },
    {
      "cell_type": "code",
      "source": [
        "x**(n1*n2)"
      ],
      "metadata": {
        "colab": {
          "base_uri": "https://localhost:8080/",
          "height": 39
        },
        "id": "uYFoA1DzeAfZ",
        "outputId": "cbcc6073-9db1-4272-fb77-753b44906fa2"
      },
      "execution_count": 53,
      "outputs": [
        {
          "output_type": "execute_result",
          "data": {
            "text/plain": [
              "x**8"
            ],
            "text/latex": "$\\displaystyle x^{8}$"
          },
          "metadata": {},
          "execution_count": 53
        }
      ]
    },
    {
      "cell_type": "code",
      "source": [
        "y,c,d=sym.symbols('y,c,d', positive=True)\n",
        "(y**c)**d"
      ],
      "metadata": {
        "colab": {
          "base_uri": "https://localhost:8080/",
          "height": 39
        },
        "id": "aDh9fiLReISv",
        "outputId": "d8fb4863-b355-4389-f57a-f3f12cd83a4a"
      },
      "execution_count": 54,
      "outputs": [
        {
          "output_type": "execute_result",
          "data": {
            "text/plain": [
              "y**(c*d)"
            ],
            "text/latex": "$\\displaystyle y^{c d}$"
          },
          "metadata": {},
          "execution_count": 54
        }
      ]
    },
    {
      "cell_type": "markdown",
      "source": [
        "# Logarithm- Property"
      ],
      "metadata": {
        "id": "rIk7-o7Ek6_f"
      }
    },
    {
      "cell_type": "code",
      "source": [
        "#ln(x*y)=ln(x)+ln(y)\n",
        "x=np.random.rand()\n",
        "y=np.random.rand()\n",
        "np.log(x*y) -( np.log(x)+np.log(y))"
      ],
      "metadata": {
        "colab": {
          "base_uri": "https://localhost:8080/"
        },
        "id": "_JCxRvRbkGXQ",
        "outputId": "9e9741e1-98d0-47b7-e6f5-eecb72c9fffe"
      },
      "execution_count": 55,
      "outputs": [
        {
          "output_type": "execute_result",
          "data": {
            "text/plain": [
              "-1.1102230246251565e-16"
            ]
          },
          "metadata": {},
          "execution_count": 55
        }
      ]
    },
    {
      "cell_type": "code",
      "source": [
        "#ln(a**b)=bln(a)\n",
        "\n",
        "np.log(x**y)-y*(np.log(x))"
      ],
      "metadata": {
        "colab": {
          "base_uri": "https://localhost:8080/"
        },
        "id": "z4a5C7fIdncS",
        "outputId": "5bc5cf97-a31e-493d-9515-5dee98be62b0"
      },
      "execution_count": 56,
      "outputs": [
        {
          "output_type": "execute_result",
          "data": {
            "text/plain": [
              "-1.1102230246251565e-16"
            ]
          },
          "metadata": {},
          "execution_count": 56
        }
      ]
    },
    {
      "cell_type": "code",
      "source": [
        "#ln(a/b)=ln(a)-ln(b)\n",
        "x=np.random.rand(100)\n",
        "y=np.random.rand(100)\n",
        "v=np.log(x/y) -( np.log(x)-np.log(y))\n",
        "plt.plot(v,'s-')"
      ],
      "metadata": {
        "colab": {
          "base_uri": "https://localhost:8080/",
          "height": 294
        },
        "id": "X-_4BdxKlTll",
        "outputId": "d12ed4e4-3ee9-470b-bfca-622b366e8abb"
      },
      "execution_count": 57,
      "outputs": [
        {
          "output_type": "execute_result",
          "data": {
            "text/plain": [
              "[<matplotlib.lines.Line2D at 0x7faf88c17d90>]"
            ]
          },
          "metadata": {},
          "execution_count": 57
        },
        {
          "output_type": "display_data",
          "data": {
            "text/plain": [
              "<Figure size 432x288 with 1 Axes>"
            ],
            "image/png": "[encoded data removed]"
          },
          "metadata": {
            "needs_background": "light"
          }
        }
      ]
    }
  ]
}